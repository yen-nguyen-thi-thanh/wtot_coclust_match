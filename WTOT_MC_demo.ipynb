{
 "cells": [
  {
   "cell_type": "raw",
   "metadata": {},
   "source": []
  },
  {
   "cell_type": "markdown",
   "metadata": {},
   "source": [
    "# Optimal transport-based machine learning to match specific expression patterns in omics data\n",
    "\n",
    "In this notebook, we will show how to use (a) optimal transport and (b) matching or co-clustering procedures to match two data sets.\n",
    "\n",
    "The methodology is presented in the paper [Optimal transport-based machine learning to match specific expression patterns in omics data](https://arxiv.org/pdf/2107.11192.pdf) by \n",
    "T. T. Y. Nguyen, O. Bouaziz, W. Harchauoui, C. Neri and A. Chambaz. \n"
   ]
  },
  {
   "cell_type": "markdown",
   "metadata": {},
   "source": [
    "## Imports and installs"
   ]
  },
  {
   "cell_type": "code",
   "execution_count": 1,
   "metadata": {},
   "outputs": [],
   "source": [
    "# Ignore this cell if the corresponding packages are already installed\n",
    "\n",
    "#!pip install coclust\n",
    "#!pip install scikit-learn"
   ]
  },
  {
   "cell_type": "code",
   "execution_count": 2,
   "metadata": {},
   "outputs": [
    {
     "name": "stderr",
     "output_type": "stream",
     "text": [
      "/Users/thithanhyen/miniconda/lib/python3.7/site-packages/sklearn/utils/linear_assignment_.py:21: DeprecationWarning: The linear_assignment_ module is deprecated in 0.21 and will be removed from 0.23. Use scipy.optimize.linear_sum_assignment instead.\n",
      "  DeprecationWarning)\n"
     ]
    }
   ],
   "source": [
    "import numpy as np\n",
    "from wtot import wtot\n",
    "from match_coclust import matching, SCC1_star, SCC1, SCC2_star, SCC2\n",
    "import pandas as pd\n"
   ]
  },
  {
   "cell_type": "markdown",
   "metadata": {},
   "source": [
    "# Example 1: Real data \n",
    "\n",
    "The real data set has been kindly made public by Langfelder et al. (see their articles published in [Nature Neuroscience](https://europepmc.org/article/med/26900923) and [Plos One](https://pubmed.ncbi.nlm.nih.gov/29324753/)).\n",
    "\n",
    "## Data loading\n",
    "\n",
    "Load the real data then convert to matrices."
   ]
  },
  {
   "cell_type": "code",
   "execution_count": 3,
   "metadata": {},
   "outputs": [],
   "source": [
    "data_micro = pd.read_csv('./datasets/LFC_Cortex_mirna.txt', sep = ' ', delimiter = '\\t') \n",
    "data_mess = pd.read_csv('./datasets/LFC_Cortex_mrna.txt', sep = ' ', delimiter = '\\t')\n",
    "\n",
    "x = data_micro.values\n",
    "y = data_mess.values\n",
    "\n",
    "x = x[:200,:3]\n",
    "y = y[: 200,:3]"
   ]
  },
  {
   "cell_type": "code",
   "execution_count": 4,
   "metadata": {},
   "outputs": [],
   "source": [
    "## Hyperparameter\n",
    "m = 1\n",
    "n = 3"
   ]
  },
  {
   "cell_type": "markdown",
   "metadata": {},
   "source": [
    "## Algorithm WTOT_matching and WTOT_coclust\n",
    "### First step ( WTOT_...)\n",
    "\n",
    "We compute the optimal transport matrix, optimal transformation and an estimator of the \"weights\" (see paper)."
   ]
  },
  {
   "cell_type": "code",
   "execution_count": 4,
   "metadata": {},
   "outputs": [],
   "source": [
    "results = wtot(x, y, m = 1, n = 3, batch_size_x = 64 , batch_size_y = 64)\n",
    "\n",
    "# value of the optimal transport matrix, the optimal transformation, and the \"weights\".\n",
    "pi_np = results['P'] \n",
    "theta = results['theta']\n",
    "w = results['w']"
   ]
  },
  {
   "cell_type": "markdown",
   "metadata": {},
   "source": [
    "### Second step \n",
    "#### Matching"
   ]
  },
  {
   "cell_type": "code",
   "execution_count": 6,
   "metadata": {},
   "outputs": [],
   "source": [
    "results_match = matching(pi_np)"
   ]
  },
  {
   "cell_type": "code",
   "execution_count": 7,
   "metadata": {},
   "outputs": [
    {
     "name": "stdout",
     "output_type": "stream",
     "text": [
      "The set of columns is associated to the first row: {0, 71, 72, 169, 12, 177, 122, 156}\n",
      "The set of rows is associated to the first column [0, 2, 13, 45, 47, 64, 66, 70, 78, 79, 101, 119, 155, 167, 173, 176, 195]\n"
     ]
    }
   ],
   "source": [
    "# the collection calM\n",
    "N_m = results_match['N_m']\n",
    "print('The indices of the miRNAs associated to the first mRNA of the list:', N_m[0], '.\\n')\n",
    "# the collection calN\n",
    "M_n = results_match['M_n']\n",
    "print('The indices of the mRNAs associated to the first miRNA of the list:', M_n[0], '.\\n')"
   ]
  },
  {
   "cell_type": "markdown",
   "metadata": {},
   "source": [
    "#### Co-clustering"
   ]
  },
  {
   "cell_type": "code",
   "execution_count": 8,
   "metadata": {},
   "outputs": [],
   "source": [
    "### WTOT-SCC1\n",
    "SCC1_res = SCC1(pi_np)\n",
    "\n",
    "### WTOT-SCC1*\n",
    "SCC1_star_res = SCC1_star(pi_np, 4 )\n",
    "\n",
    "### WTOT-SCC2\n",
    "SCC2_res = SCC2(pi_np)\n",
    "\n",
    "### WTOT-SCC*\n",
    "SCC2_star_res = SCC2_star(pi_np, 4)\n"
   ]
  },
  {
   "cell_type": "markdown",
   "metadata": {},
   "source": [
    "# Example 2: synthesic data\n",
    "\n",
    "We now present an illustration based on simulated data.\n",
    "\n",
    "## Data simulation"
   ]
  },
  {
   "cell_type": "code",
   "execution_count": 9,
   "metadata": {
    "scrolled": true
   },
   "outputs": [],
   "source": [
    "### an example of synthesic data\n",
    "datas = np.load('./datasets/sample_A4.npz', allow_pickle = True) # the configuration A4 of the first simulation study\n",
    "datas = datas['dats']\n",
    "\n",
    "id_sample = 1\n",
    "x         = datas[id_sample]['x']\n",
    "y         = datas[id_sample]['y']\n",
    "labels_x  = datas[id_sample]['labels_x']\n",
    "labels_y  = datas[id_sample]['labels_y']"
   ]
  },
  {
   "cell_type": "markdown",
   "metadata": {},
   "source": [
    "### First step ( WTOT_...)\n",
    "We compute the optimal transport matrix, optimal transformation and an estimator of the \"weights\"."
   ]
  },
  {
   "cell_type": "code",
   "execution_count": 10,
   "metadata": {},
   "outputs": [],
   "source": [
    "results = wtot(x, y, m = 2, n=1, batch_size_x = 64, batch_size_y = 64)\n",
    "\n",
    "# value of the optimal transport matrix, the optimal transformation, and the \"weights\"\n",
    "pi_np = results['P'] \n",
    "theta = results['theta']\n",
    "w = results['w']"
   ]
  },
  {
   "cell_type": "markdown",
   "metadata": {},
   "source": [
    "### Second step \n",
    "#### Matching"
   ]
  },
  {
   "cell_type": "code",
   "execution_count": 11,
   "metadata": {},
   "outputs": [],
   "source": [
    "results_match = matching(pi_np)"
   ]
  },
  {
   "cell_type": "code",
   "execution_count": 12,
   "metadata": {},
   "outputs": [
    {
     "name": "stdout",
     "output_type": "stream",
     "text": [
      "The set of columns is associated to the first row: {290, 228, 294, 166, 200, 170, 204, 239, 112, 50, 243, 20, 52, 277, 151}\n",
      "The set of rows is associated to the first column [99, 103, 111, 145, 178, 211, 215, 220, 286]\n"
     ]
    }
   ],
   "source": [
    "# the collection of calM\n",
    "N_m = results_match['N_m']\n",
    "print('The indices of the columns associated to the first row:', N_m[0], '.\\n')\n",
    "# the collection of calN\n",
    "M_n = results_match['M_n']\n",
    "print('The indices of rows associated to the first column', M_n[0], '.\\n')"
   ]
  },
  {
   "cell_type": "markdown",
   "metadata": {},
   "source": [
    "#### Co-clustering"
   ]
  },
  {
   "cell_type": "code",
   "execution_count": 13,
   "metadata": {},
   "outputs": [],
   "source": [
    "\n",
    "### WTOT-SCC1\n",
    "SCC1_res = SCC1(pi_np)\n",
    "### WTOT-SCC1*\n",
    "SCC1_star_res =SCC1_star(pi_np, 4 )\n",
    "### WTOT-SCC2\n",
    "SCC2_res = SCC2(pi_np)\n",
    "### WTOT-SCC*\n",
    "SCC2_star_res = SCC2_star(pi_np, 4)"
   ]
  }
 ],
 "metadata": {
  "kernelspec": {
   "display_name": "Python 3",
   "language": "python",
   "name": "python3"
  },
  "language_info": {
   "codemirror_mode": {
    "name": "ipython",
    "version": 3
   },
   "file_extension": ".py",
   "mimetype": "text/x-python",
   "name": "python",
   "nbconvert_exporter": "python",
   "pygments_lexer": "ipython3",
   "version": "3.7.4"
  }
 },
 "nbformat": 4,
 "nbformat_minor": 2
}
